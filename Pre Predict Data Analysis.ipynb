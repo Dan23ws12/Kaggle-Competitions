{
 "cells": [
  {
   "cell_type": "code",
   "execution_count": 122,
   "metadata": {},
   "outputs": [],
   "source": [
    "import pandas as pd\n",
    "import matplotlib.pyplot as plt\n",
    "import seaborn as sns\n",
    "from statsmodels.stats.outliers_influence import variance_inflation_factor\n",
    "from sklearn.preprocessing import StandardScaler, OneHotEncoder\n",
    "from sklearn.compose import ColumnTransformer"
   ]
  },
  {
   "cell_type": "code",
   "execution_count": 2,
   "metadata": {},
   "outputs": [],
   "source": [
    "car_df = pd.read_excel(\"./Data/train.xlsx\")"
   ]
  },
  {
   "cell_type": "code",
   "execution_count": 3,
   "metadata": {},
   "outputs": [],
   "source": [
    "#id is not useful\n",
    "car_df.drop(columns=[\"id\", \"clean_title\"], inplace=True)\n",
    "car_df.rename(columns={\"milage\":\"mileage\"}, inplace=True)\n",
    "# the number 2 FOR SOME REASON was found in the transmission column IN A COLUMN OF STRINGS \n",
    "car_df[\"transmission\"] = car_df[\"transmission\"].replace(2, \"2T\")"
   ]
  },
  {
   "cell_type": "code",
   "execution_count": null,
   "metadata": {},
   "outputs": [
    {
     "data": {
      "text/html": [
       "<div>\n",
       "<style scoped>\n",
       "    .dataframe tbody tr th:only-of-type {\n",
       "        vertical-align: middle;\n",
       "    }\n",
       "\n",
       "    .dataframe tbody tr th {\n",
       "        vertical-align: top;\n",
       "    }\n",
       "\n",
       "    .dataframe thead th {\n",
       "        text-align: right;\n",
       "    }\n",
       "</style>\n",
       "<table border=\"1\" class=\"dataframe\">\n",
       "  <thead>\n",
       "    <tr style=\"text-align: right;\">\n",
       "      <th></th>\n",
       "      <th>brand</th>\n",
       "      <th>model_year</th>\n",
       "      <th>mileage</th>\n",
       "      <th>fuel_type</th>\n",
       "      <th>engine</th>\n",
       "      <th>transmission</th>\n",
       "      <th>ext_col</th>\n",
       "      <th>int_col</th>\n",
       "      <th>accident</th>\n",
       "      <th>clean_title</th>\n",
       "      <th>price</th>\n",
       "    </tr>\n",
       "  </thead>\n",
       "  <tbody>\n",
       "    <tr>\n",
       "      <th>0</th>\n",
       "      <td>MINI</td>\n",
       "      <td>2007</td>\n",
       "      <td>213000</td>\n",
       "      <td>Gasoline</td>\n",
       "      <td>172.0HP 1.6L 4 Cylinder Engine Gasoline Fuel</td>\n",
       "      <td>A/T</td>\n",
       "      <td>Yellow</td>\n",
       "      <td>Gray</td>\n",
       "      <td>None reported</td>\n",
       "      <td>Yes</td>\n",
       "      <td>4200</td>\n",
       "    </tr>\n",
       "    <tr>\n",
       "      <th>1</th>\n",
       "      <td>Lincoln</td>\n",
       "      <td>2002</td>\n",
       "      <td>143250</td>\n",
       "      <td>Gasoline</td>\n",
       "      <td>252.0HP 3.9L 8 Cylinder Engine Gasoline Fuel</td>\n",
       "      <td>A/T</td>\n",
       "      <td>Silver</td>\n",
       "      <td>Beige</td>\n",
       "      <td>At least 1 accident or damage reported</td>\n",
       "      <td>Yes</td>\n",
       "      <td>4999</td>\n",
       "    </tr>\n",
       "    <tr>\n",
       "      <th>2</th>\n",
       "      <td>Chevrolet</td>\n",
       "      <td>2002</td>\n",
       "      <td>136731</td>\n",
       "      <td>E85 Flex Fuel</td>\n",
       "      <td>320.0HP 5.3L 8 Cylinder Engine Flex Fuel Capab...</td>\n",
       "      <td>A/T</td>\n",
       "      <td>Blue</td>\n",
       "      <td>Gray</td>\n",
       "      <td>None reported</td>\n",
       "      <td>Yes</td>\n",
       "      <td>13900</td>\n",
       "    </tr>\n",
       "    <tr>\n",
       "      <th>3</th>\n",
       "      <td>Genesis</td>\n",
       "      <td>2017</td>\n",
       "      <td>19500</td>\n",
       "      <td>Gasoline</td>\n",
       "      <td>420.0HP 5.0L 8 Cylinder Engine Gasoline Fuel</td>\n",
       "      <td>Transmission w/Dual Shift Mode</td>\n",
       "      <td>Black</td>\n",
       "      <td>Black</td>\n",
       "      <td>None reported</td>\n",
       "      <td>Yes</td>\n",
       "      <td>45000</td>\n",
       "    </tr>\n",
       "  </tbody>\n",
       "</table>\n",
       "</div>"
      ],
      "text/plain": [
       "       brand  model_year  mileage      fuel_type  \\\n",
       "0       MINI        2007   213000       Gasoline   \n",
       "1    Lincoln        2002   143250       Gasoline   \n",
       "2  Chevrolet        2002   136731  E85 Flex Fuel   \n",
       "3    Genesis        2017    19500       Gasoline   \n",
       "\n",
       "                                              engine  \\\n",
       "0       172.0HP 1.6L 4 Cylinder Engine Gasoline Fuel   \n",
       "1       252.0HP 3.9L 8 Cylinder Engine Gasoline Fuel   \n",
       "2  320.0HP 5.3L 8 Cylinder Engine Flex Fuel Capab...   \n",
       "3       420.0HP 5.0L 8 Cylinder Engine Gasoline Fuel   \n",
       "\n",
       "                     transmission ext_col int_col  \\\n",
       "0                             A/T  Yellow    Gray   \n",
       "1                             A/T  Silver   Beige   \n",
       "2                             A/T    Blue    Gray   \n",
       "3  Transmission w/Dual Shift Mode   Black   Black   \n",
       "\n",
       "                                 accident clean_title  price  \n",
       "0                           None reported         Yes   4200  \n",
       "1  At least 1 accident or damage reported         Yes   4999  \n",
       "2                           None reported         Yes  13900  \n",
       "3                           None reported         Yes  45000  "
      ]
     },
     "metadata": {},
     "output_type": "display_data"
    }
   ],
   "source": [
    "car_df.head(4)"
   ]
  },
  {
   "cell_type": "markdown",
   "metadata": {},
   "source": [
    "Heatmap of Correlation of Variables"
   ]
  },
  {
   "cell_type": "code",
   "execution_count": 4,
   "metadata": {},
   "outputs": [
    {
     "data": {
      "image/png": "[encoded data removed]",
      "text/plain": [
       "<Figure size 640x480 with 2 Axes>"
      ]
     },
     "metadata": {},
     "output_type": "display_data"
    }
   ],
   "source": [
    "sns.heatmap(car_df.corr(numeric_only=True), annot=True)\n",
    "plt.show()"
   ]
  },
  {
   "cell_type": "markdown",
   "metadata": {},
   "source": [
    "Plotting Model Year vs Resale Price"
   ]
  },
  {
   "cell_type": "code",
   "execution_count": 5,
   "metadata": {},
   "outputs": [
    {
     "data": {
      "image/png": "[encoded data removed]",
      "text/plain": [
       "<Figure size 640x480 with 1 Axes>"
      ]
     },
     "metadata": {},
     "output_type": "display_data"
    }
   ],
   "source": [
    "plt.scatter(\"model_year\", \"price\", data=car_df)\n",
    "plt.title(\"Model Year vs Car Price\")\n",
    "plt.xlabel(\"Model Year\")\n",
    "plt.ylabel(\"Resale Price\")\n",
    "plt.show()"
   ]
  },
  {
   "cell_type": "markdown",
   "metadata": {},
   "source": [
    "Plotting Mileage vs Resale Price"
   ]
  },
  {
   "cell_type": "code",
   "execution_count": null,
   "metadata": {},
   "outputs": [
    {
     "data": {
      "image/png": "[encoded data removed]",
      "text/plain": [
       "<Figure size 640x480 with 1 Axes>"
      ]
     },
     "metadata": {},
     "output_type": "display_data"
    }
   ],
   "source": [
    "#plotting mileage vs price\n",
    "plt.scatter(\"mileage\", \"price\", data=car_df)\n",
    "plt.title(\"Mileage vs Resale Car Price\")\n",
    "plt.xlabel(\"Mileage\")\n",
    "plt.ylabel(\"Resale Price\")\n",
    "plt.show()"
   ]
  },
  {
   "cell_type": "markdown",
   "metadata": {},
   "source": [
    "Obtaining a List of All Categorical and Quantitative Independent Variables"
   ]
  },
  {
   "cell_type": "code",
   "execution_count": 6,
   "metadata": {},
   "outputs": [],
   "source": [
    "numerical_col = {\"model_year\", \"mileage\"}\n",
    "categorical_col = set(car_df.columns).difference(numerical_col.union({\"price\"}))\n",
    "numerical_col = list(numerical_col)\n",
    "categorical_col = list(categorical_col)"
   ]
  },
  {
   "cell_type": "markdown",
   "metadata": {},
   "source": [
    "Checking for MultiCollinearity"
   ]
  },
  {
   "cell_type": "code",
   "execution_count": null,
   "metadata": {},
   "outputs": [
    {
     "name": "stdout",
     "output_type": "stream",
     "text": [
      "      feature       VIF\n",
      "0     mileage  2.963466\n",
      "1       price  1.424341\n",
      "2  model_year  3.664151\n"
     ]
    }
   ],
   "source": [
    "#model_year and mileage having correlation ~ 0.7 is worrying, thus I will calculate VIF\n",
    "def vif_display():\n",
    "    quant_lst = list(numerical_col.union({\"price\"}))\n",
    "    car_vif_df = car_df[quant_lst]\n",
    "    vif_df = pd.DataFrame({\"feature\":car_vif_df.columns})\n",
    "    vif_df[\"VIF\"] = [variance_inflation_factor(car_vif_df.values, i) for\n",
    "                      i in range(len(car_vif_df.columns))]\n",
    "    print(vif_df)\n",
    "\n",
    "vif_display()"
   ]
  },
  {
   "cell_type": "markdown",
   "metadata": {},
   "source": [
    "Dealing with Missing Values"
   ]
  },
  {
   "cell_type": "code",
   "execution_count": null,
   "metadata": {},
   "outputs": [],
   "source": [
    "#list of all columns with missing values\n",
    "def fill_wt_mode(df: pd.DataFrame) -> pd.DataFrame:\n",
    "    cols_wt_na = [\"fuel_type\", \"accident\"]\n",
    "    replace_dict = {}\n",
    "    #calculating the mode for each column with missing values (they are all categorical variables)\n",
    "    for col in cols_wt_na:\n",
    "        replace_dict[col] = df[col].agg(pd.Series.mode).iloc[0]\n",
    "    #replacing the empty values in each column with the most frequently occuring option\n",
    "    return df.fillna(value=replace_dict)\n",
    "\n",
    "#U can use SimpleImputer next time\n",
    "\n",
    "car_df = fill_wt_mode(car_df)"
   ]
  },
  {
   "cell_type": "markdown",
   "metadata": {},
   "source": [
    "Dealing With Too Many values In Categorical Columns"
   ]
  },
  {
   "cell_type": "code",
   "execution_count": 14,
   "metadata": {},
   "outputs": [
    {
     "name": "stdout",
     "output_type": "stream",
     "text": [
      "<class 'pandas.core.frame.DataFrame'>\n",
      "RangeIndex: 188533 entries, 0 to 188532\n",
      "Data columns (total 12 columns):\n",
      " #   Column        Non-Null Count   Dtype \n",
      "---  ------        --------------   ----- \n",
      " 0   brand         188533 non-null  object\n",
      " 1   model         188533 non-null  object\n",
      " 2   model_year    188533 non-null  int64 \n",
      " 3   mileage       188533 non-null  int64 \n",
      " 4   fuel_type     183450 non-null  object\n",
      " 5   engine        188533 non-null  object\n",
      " 6   transmission  188533 non-null  object\n",
      " 7   ext_col       188533 non-null  object\n",
      " 8   int_col       188533 non-null  object\n",
      " 9   accident      186081 non-null  object\n",
      " 10  clean_title   167114 non-null  object\n",
      " 11  price         188533 non-null  int64 \n",
      "dtypes: int64(3), object(9)\n",
      "memory usage: 17.3+ MB\n"
     ]
    }
   ],
   "source": [
    "car_df.info()"
   ]
  },
  {
   "cell_type": "code",
   "execution_count": 8,
   "metadata": {},
   "outputs": [
    {
     "data": {
      "text/html": [
       "<div>\n",
       "<style scoped>\n",
       "    .dataframe tbody tr th:only-of-type {\n",
       "        vertical-align: middle;\n",
       "    }\n",
       "\n",
       "    .dataframe tbody tr th {\n",
       "        vertical-align: top;\n",
       "    }\n",
       "\n",
       "    .dataframe thead th {\n",
       "        text-align: right;\n",
       "    }\n",
       "</style>\n",
       "<table border=\"1\" class=\"dataframe\">\n",
       "  <thead>\n",
       "    <tr style=\"text-align: right;\">\n",
       "      <th></th>\n",
       "      <th>model</th>\n",
       "      <th>clean_title</th>\n",
       "      <th>accident</th>\n",
       "      <th>transmission</th>\n",
       "      <th>ext_col</th>\n",
       "      <th>fuel_type</th>\n",
       "      <th>brand</th>\n",
       "      <th>engine</th>\n",
       "      <th>int_col</th>\n",
       "    </tr>\n",
       "  </thead>\n",
       "  <tbody>\n",
       "    <tr>\n",
       "      <th>count</th>\n",
       "      <td>188533</td>\n",
       "      <td>167114</td>\n",
       "      <td>186081</td>\n",
       "      <td>188533</td>\n",
       "      <td>188533</td>\n",
       "      <td>183450</td>\n",
       "      <td>188533</td>\n",
       "      <td>188533</td>\n",
       "      <td>188533</td>\n",
       "    </tr>\n",
       "    <tr>\n",
       "      <th>unique</th>\n",
       "      <td>1897</td>\n",
       "      <td>1</td>\n",
       "      <td>2</td>\n",
       "      <td>52</td>\n",
       "      <td>319</td>\n",
       "      <td>7</td>\n",
       "      <td>57</td>\n",
       "      <td>1117</td>\n",
       "      <td>156</td>\n",
       "    </tr>\n",
       "    <tr>\n",
       "      <th>top</th>\n",
       "      <td>F-150 XLT</td>\n",
       "      <td>Yes</td>\n",
       "      <td>None reported</td>\n",
       "      <td>A/T</td>\n",
       "      <td>Black</td>\n",
       "      <td>Gasoline</td>\n",
       "      <td>Ford</td>\n",
       "      <td>355.0HP 5.3L 8 Cylinder Engine Gasoline Fuel</td>\n",
       "      <td>Black</td>\n",
       "    </tr>\n",
       "    <tr>\n",
       "      <th>freq</th>\n",
       "      <td>2945</td>\n",
       "      <td>167114</td>\n",
       "      <td>144514</td>\n",
       "      <td>49904</td>\n",
       "      <td>48658</td>\n",
       "      <td>165940</td>\n",
       "      <td>23088</td>\n",
       "      <td>3462</td>\n",
       "      <td>107674</td>\n",
       "    </tr>\n",
       "  </tbody>\n",
       "</table>\n",
       "</div>"
      ],
      "text/plain": [
       "            model clean_title       accident transmission ext_col fuel_type  \\\n",
       "count      188533      167114         186081       188533  188533    183450   \n",
       "unique       1897           1              2           52     319         7   \n",
       "top     F-150 XLT         Yes  None reported          A/T   Black  Gasoline   \n",
       "freq         2945      167114         144514        49904   48658    165940   \n",
       "\n",
       "         brand                                        engine int_col  \n",
       "count   188533                                        188533  188533  \n",
       "unique      57                                          1117     156  \n",
       "top       Ford  355.0HP 5.3L 8 Cylinder Engine Gasoline Fuel   Black  \n",
       "freq     23088                                          3462  107674  "
      ]
     },
     "execution_count": 8,
     "metadata": {},
     "output_type": "execute_result"
    }
   ],
   "source": [
    "car_df[categorical_col].describe()"
   ]
  },
  {
   "cell_type": "code",
   "execution_count": 22,
   "metadata": {},
   "outputs": [],
   "source": [
    "\n",
    "\"\"\"\n",
    "model, ext_col, int_col and engine columns have too many unique values\n",
    "I plan to find the top 60 by number of occurences and replace those not in top 60 with other\n",
    "\"\"\"\n",
    "def get_top_60(col_name: str) -> pd.DataFrame:\n",
    "    #brand is a column with not too many values so we won't want top 60\n",
    "    top_df = pd.DataFrame(car_df.groupby(by=[col_name]).count()[\"brand\"]).reset_index()\n",
    "    top_df.rename(columns={\"brand\":\"count\"}, inplace=True)\n",
    "    top_df = top_df.sort_values(by = \"count\", ascending=False).iloc[:60, ].reset_index()\n",
    "    return top_df.drop(columns=[\"index\"])\n"
   ]
  },
  {
   "cell_type": "markdown",
   "metadata": {},
   "source": [
    "Replacing Values That Don't Appear Often With 'Others'"
   ]
  },
  {
   "cell_type": "code",
   "execution_count": 111,
   "metadata": {},
   "outputs": [],
   "source": [
    "#dictionary containing the top 60 most frequently occuring values per column for each column\n",
    "#with too many values\n",
    "replace_dict = dict()\n",
    "#columns that have too many values\n",
    "replace_col = [\"model\", \"ext_col\", \"int_col\", \"engine\"]\n",
    "for col in replace_col:\n",
    "    replace_dict[col] = get_top_60(col)"
   ]
  },
  {
   "cell_type": "code",
   "execution_count": 119,
   "metadata": {},
   "outputs": [],
   "source": [
    "#initial dataframe is current cars data\n",
    "car2 = car_df\n",
    "for col in replace_col:    \n",
    "    #joins original data with df containing top 60 most occuring\n",
    "    #values not in top 60 will be NaN in r{col}\n",
    "    car2 = car2.merge(right=replace_dict[col], how = \"outer\", \n",
    "                        left_on=col, right_on= col)\n",
    "    #replaces values not in top 60 most occuring with 'Others'\n",
    "    car2.loc[pd.isna(car2[\"count\"]), col] = \"Others\"\n",
    "    #drops the worthless column\n",
    "    car2.drop(columns=[\"count\"], inplace=True)"
   ]
  },
  {
   "cell_type": "code",
   "execution_count": 121,
   "metadata": {},
   "outputs": [
    {
     "data": {
      "text/html": [
       "<div>\n",
       "<style scoped>\n",
       "    .dataframe tbody tr th:only-of-type {\n",
       "        vertical-align: middle;\n",
       "    }\n",
       "\n",
       "    .dataframe tbody tr th {\n",
       "        vertical-align: top;\n",
       "    }\n",
       "\n",
       "    .dataframe thead th {\n",
       "        text-align: right;\n",
       "    }\n",
       "</style>\n",
       "<table border=\"1\" class=\"dataframe\">\n",
       "  <thead>\n",
       "    <tr style=\"text-align: right;\">\n",
       "      <th></th>\n",
       "      <th>brand</th>\n",
       "      <th>model</th>\n",
       "      <th>model_year</th>\n",
       "      <th>mileage</th>\n",
       "      <th>fuel_type</th>\n",
       "      <th>engine</th>\n",
       "      <th>transmission</th>\n",
       "      <th>ext_col</th>\n",
       "      <th>int_col</th>\n",
       "      <th>accident</th>\n",
       "      <th>clean_title</th>\n",
       "      <th>price</th>\n",
       "    </tr>\n",
       "  </thead>\n",
       "  <tbody>\n",
       "    <tr>\n",
       "      <th>0</th>\n",
       "      <td>Chevrolet</td>\n",
       "      <td>Others</td>\n",
       "      <td>2019</td>\n",
       "      <td>61341</td>\n",
       "      <td>Gasoline</td>\n",
       "      <td>Others</td>\n",
       "      <td>8-Speed Automatic</td>\n",
       "      <td>Others</td>\n",
       "      <td>Black</td>\n",
       "      <td>None reported</td>\n",
       "      <td>Yes</td>\n",
       "      <td>18853</td>\n",
       "    </tr>\n",
       "    <tr>\n",
       "      <th>1</th>\n",
       "      <td>Chevrolet</td>\n",
       "      <td>Others</td>\n",
       "      <td>2019</td>\n",
       "      <td>53607</td>\n",
       "      <td>Gasoline</td>\n",
       "      <td>Others</td>\n",
       "      <td>9-Speed Automatic</td>\n",
       "      <td>Others</td>\n",
       "      <td>Black</td>\n",
       "      <td>At least 1 accident or damage reported</td>\n",
       "      <td>Yes</td>\n",
       "      <td>39853</td>\n",
       "    </tr>\n",
       "    <tr>\n",
       "      <th>2</th>\n",
       "      <td>Honda</td>\n",
       "      <td>Others</td>\n",
       "      <td>2021</td>\n",
       "      <td>15636</td>\n",
       "      <td>Gasoline</td>\n",
       "      <td>Others</td>\n",
       "      <td>6-Speed Automatic</td>\n",
       "      <td>Others</td>\n",
       "      <td>Black</td>\n",
       "      <td>None reported</td>\n",
       "      <td>NaN</td>\n",
       "      <td>15363</td>\n",
       "    </tr>\n",
       "    <tr>\n",
       "      <th>3</th>\n",
       "      <td>Chevrolet</td>\n",
       "      <td>Camaro 1SS</td>\n",
       "      <td>2020</td>\n",
       "      <td>30630</td>\n",
       "      <td>Gasoline</td>\n",
       "      <td>Others</td>\n",
       "      <td>8-Speed Automatic</td>\n",
       "      <td>White</td>\n",
       "      <td>Black</td>\n",
       "      <td>None reported</td>\n",
       "      <td>Yes</td>\n",
       "      <td>39687</td>\n",
       "    </tr>\n",
       "    <tr>\n",
       "      <th>4</th>\n",
       "      <td>Kia</td>\n",
       "      <td>Others</td>\n",
       "      <td>2021</td>\n",
       "      <td>1930</td>\n",
       "      <td>Gasoline</td>\n",
       "      <td>Others</td>\n",
       "      <td>Automatic CVT</td>\n",
       "      <td>Others</td>\n",
       "      <td>Black</td>\n",
       "      <td>None reported</td>\n",
       "      <td>NaN</td>\n",
       "      <td>16499</td>\n",
       "    </tr>\n",
       "  </tbody>\n",
       "</table>\n",
       "</div>"
      ],
      "text/plain": [
       "       brand       model  model_year  mileage fuel_type  engine  \\\n",
       "0  Chevrolet      Others        2019    61341  Gasoline  Others   \n",
       "1  Chevrolet      Others        2019    53607  Gasoline  Others   \n",
       "2      Honda      Others        2021    15636  Gasoline  Others   \n",
       "3  Chevrolet  Camaro 1SS        2020    30630  Gasoline  Others   \n",
       "4        Kia      Others        2021     1930  Gasoline  Others   \n",
       "\n",
       "        transmission ext_col int_col                                accident  \\\n",
       "0  8-Speed Automatic  Others   Black                           None reported   \n",
       "1  9-Speed Automatic  Others   Black  At least 1 accident or damage reported   \n",
       "2  6-Speed Automatic  Others   Black                           None reported   \n",
       "3  8-Speed Automatic   White   Black                           None reported   \n",
       "4      Automatic CVT  Others   Black                           None reported   \n",
       "\n",
       "  clean_title  price  \n",
       "0         Yes  18853  \n",
       "1         Yes  39853  \n",
       "2         NaN  15363  \n",
       "3         Yes  39687  \n",
       "4         NaN  16499  "
      ]
     },
     "execution_count": 121,
     "metadata": {},
     "output_type": "execute_result"
    }
   ],
   "source": [
    "\n",
    "car2.head()"
   ]
  },
  {
   "cell_type": "code",
   "execution_count": null,
   "metadata": {},
   "outputs": [],
   "source": []
  }
 ],
 "metadata": {
  "kernelspec": {
   "display_name": "Python 3",
   "language": "python",
   "name": "python3"
  },
  "language_info": {
   "codemirror_mode": {
    "name": "ipython",
    "version": 3
   },
   "file_extension": ".py",
   "mimetype": "text/x-python",
   "name": "python",
   "nbconvert_exporter": "python",
   "pygments_lexer": "ipython3",
   "version": "3.12.4"
  }
 },
 "nbformat": 4,
 "nbformat_minor": 2
}
