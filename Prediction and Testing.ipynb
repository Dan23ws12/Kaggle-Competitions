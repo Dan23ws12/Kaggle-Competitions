{
 "cells": [
  {
   "cell_type": "code",
   "execution_count": 1,
   "id": "221d4c01-dc9b-4209-bf6c-d35585f1a643",
   "metadata": {},
   "outputs": [],
   "source": [
    "import pandas as pd\n",
    "import matplotlib.pyplot as plt\n",
    "import seaborn as sns\n",
    "from sklearn.preprocessing import StandardScaler, OneHotEncoder\n",
    "from sklearn.linear_model import LinearRegression\n",
    "from sklearn.compose import ColumnTransformer\n",
    "from sklearn.pipeline import Pipeline\n",
    "from sklearn.model_selection import train_test_split\n",
    "from sklearn.metrics import mean_squared_error, r2_score\n",
    "from sklearn.ensemble import GradientBoostingRegressor"
   ]
  },
  {
   "cell_type": "markdown",
   "id": "803dc3f9",
   "metadata": {},
   "source": [
    "Importing the Data"
   ]
  },
  {
   "cell_type": "code",
   "execution_count": null,
   "id": "a9d419d9",
   "metadata": {},
   "outputs": [],
   "source": [
    "car_df = pd.read_excel(\"./Data/train.xlsx\")"
   ]
  },
  {
   "cell_type": "code",
   "execution_count": null,
   "id": "493bba70",
   "metadata": {},
   "outputs": [],
   "source": [
    "car_df.drop(columns=[\"id\"])\n",
    "car_df.rename(columns={\"milage\":\"mileage\"}, inplace=True)"
   ]
  },
  {
   "cell_type": "code",
   "execution_count": null,
   "id": "e8d4603b",
   "metadata": {},
   "outputs": [],
   "source": [
    "car_df.head(4)"
   ]
  },
  {
   "cell_type": "markdown",
   "id": "f209076f",
   "metadata": {},
   "source": [
    "Heatmap of Correlation of Variables"
   ]
  },
  {
   "cell_type": "code",
   "execution_count": null,
   "id": "4cf15b2a",
   "metadata": {},
   "outputs": [],
   "source": [
    "sns.heatmap(car_df.corr(numeric_only=True), annot=True)\n",
    "plt.show()"
   ]
  },
  {
   "cell_type": "markdown",
   "id": "6d288d54",
   "metadata": {},
   "source": [
    "Obtaining a List of All Categorical and Quantitative Independent Variables"
   ]
  },
  {
   "cell_type": "code",
   "execution_count": null,
   "id": "232e9a26",
   "metadata": {},
   "outputs": [],
   "source": [
    "numerical_col = {\"model_year\", \"mileage\"}\n",
    "categorical_col = set(car_df.columns).difference(numerical_col.union({\"price\"}))"
   ]
  },
  {
   "cell_type": "code",
   "execution_count": null,
   "id": "00e968c5",
   "metadata": {},
   "outputs": [],
   "source": []
  }
 ],
 "metadata": {
  "kernelspec": {
   "display_name": "Python 3 (ipykernel)",
   "language": "python",
   "name": "python3"
  },
  "language_info": {
   "codemirror_mode": {
    "name": "ipython",
    "version": 3
   },
   "file_extension": ".py",
   "mimetype": "text/x-python",
   "name": "python",
   "nbconvert_exporter": "python",
   "pygments_lexer": "ipython3",
   "version": "3.12.4"
  }
 },
 "nbformat": 4,
 "nbformat_minor": 5
}
